{
 "cells": [
  {
   "cell_type": "code",
   "execution_count": 189,
   "id": "7d86de56",
   "metadata": {},
   "outputs": [],
   "source": [
    "import pyqrcodeng as pyqrcode #!\n",
    "import random\n",
    "import numpy as np\n",
    "import torch\n",
    "import os\n",
    "import cv2\n",
    "\n",
    "from torch.utils.data import Dataset, DataLoader\n",
    "\n"
   ]
  },
  {
   "cell_type": "code",
   "execution_count": 190,
   "id": "692af1ad",
   "metadata": {},
   "outputs": [],
   "source": [
    "class QRCode:\n",
    "    ERROR_LEVELS = ['L', 'M', 'Q', 'H']\n",
    "    VERSION_NUMBERS = list(range(1, 41))\n",
    "    MODES = 'binary', 'numeric', 'alphanumeric'\n",
    "\n",
    "    def choise_version(self):\n",
    "        return random.choice(self.VERSION_NUMBERS)\n",
    "    \n",
    "    def choise_level(self):\n",
    "        return random.choice(self.ERROR_LEVELS)\n",
    "    \n",
    "    def choise_mode(self):\n",
    "        return random.choice(self.MODES)\n",
    "    \n",
    "    def generate_data(self):\n",
    "        mode_id = pyqrcode.tables.modes[self.mode]\n",
    "        capacity = pyqrcode.tables.data_capacity[self.version][self.error_level][mode_id]\n",
    "        \n",
    "        match self.mode:\n",
    "            case 'alphanumeric':\n",
    "                return \"\".join(map(chr, np.random.choice(list(pyqrcode.tables.ALPHANUMERIC_CHARS), capacity)))\n",
    "            case 'numeric':\n",
    "                return \"\".join(map(str, np.random.choice(list(range(10)), capacity)))\n",
    "            case 'binary':\n",
    "                return np.random.bytes(capacity)\n",
    "            case _:\n",
    "                assert False and f\"unexpected mode {self.mode}\"\n",
    "\n",
    "    def __init__(self, version: int = None, error_level = None, mode = None):\n",
    "        self.version = version or self.choise_version()\n",
    "        self.error_level = error_level or self.choise_level()\n",
    "        self.mode = mode or self.choise_mode()\n",
    "        \n",
    "        self.code = pyqrcode.create(\n",
    "            self.generate_data(), \n",
    "            error=self.error_level, \n",
    "            version=self.version, \n",
    "            mode=self.mode\n",
    "        )\n",
    "        \n",
    "    def save_svg(self, path):\n",
    "        self.code.svg(path, scale=1)\n",
    "    \n",
    "    def save_png(self, path):\n",
    "        self.code.png(path, scale=1)\n",
    "    \n",
    "    def show(self):\n",
    "        self.code.show()"
   ]
  },
  {
   "cell_type": "code",
   "execution_count": 187,
   "id": "24a15470",
   "metadata": {},
   "outputs": [],
   "source": [
    "DATASET_DIRECTORY = \"./qr-code-dataset/\"\n",
    "os.mkdir(DATASET_DIRECTORY)\n",
    "\n",
    "DATASET_SIZE = 10\n",
    "for i in range(DATASET_SIZE):\n",
    "    code = QRCode()\n",
    "    code.save_svg(f\"{DATASET_DIRECTORY}/{i}.svg\")\n",
    "    code.save_png(f\"{DATASET_DIRECTORY}/{i}.png\")\n",
    "    "
   ]
  },
  {
   "cell_type": "code",
   "execution_count": 175,
   "id": "1c3d1c64",
   "metadata": {},
   "outputs": [],
   "source": [
    "\n",
    "def centroids(code: QRCode):\n",
    "    scale = 10\n",
    "    centroid_size = 2\n",
    "    offset = (scale - centroid_size) // 2\n",
    "    centroids = Svg()\n",
    "    oh = ShapeBuilder()\n",
    "    for y, line in enumerate(code.text().split()):\n",
    "        for x, char in enumerate(line):\n",
    "            if char == '0':\n",
    "                continue\n",
    "            centroids.addElement(oh.createRect(x * scale + offset, y * scale + offset, centroid_size, centroid_size, strokewidth=0, fill='red'))\n",
    "    return centroids\n",
    "                "
   ]
  },
  {
   "cell_type": "code",
   "execution_count": 91,
   "id": "73ffc27c",
   "metadata": {},
   "outputs": [
    {
     "ename": "AttributeError",
     "evalue": "'QRCode' object has no attribute 'svg'",
     "output_type": "error",
     "traceback": [
      "\u001b[0;31m---------------------------------------------------------------------------\u001b[0m",
      "\u001b[0;31mAttributeError\u001b[0m                            Traceback (most recent call last)",
      "Cell \u001b[0;32mIn [91], line 3\u001b[0m\n\u001b[1;32m      1\u001b[0m code \u001b[38;5;241m=\u001b[39m QRCode()\n\u001b[0;32m----> 3\u001b[0m \u001b[43mcode\u001b[49m\u001b[38;5;241;43m.\u001b[39;49m\u001b[43msvg\u001b[49m(\u001b[38;5;124m\"\u001b[39m\u001b[38;5;124mcode.svg\u001b[39m\u001b[38;5;124m\"\u001b[39m)\n\u001b[1;32m      4\u001b[0m centroids(code)\u001b[38;5;241m.\u001b[39msave(\u001b[38;5;124m'\u001b[39m\u001b[38;5;124mcentroids.svg\u001b[39m\u001b[38;5;124m'\u001b[39m)\n",
      "\u001b[0;31mAttributeError\u001b[0m: 'QRCode' object has no attribute 'svg'"
     ]
    }
   ],
   "source": [
    "code = QRCode()\n",
    "\n",
    "code.svg(\"code.svg\")\n",
    "centroids(code).save('centroids.svg')"
   ]
  },
  {
   "cell_type": "code",
   "execution_count": null,
   "id": "1ab64ae3",
   "metadata": {},
   "outputs": [],
   "source": []
  },
  {
   "cell_type": "code",
   "execution_count": null,
   "id": "5220f3d8",
   "metadata": {},
   "outputs": [],
   "source": []
  },
  {
   "cell_type": "code",
   "execution_count": null,
   "id": "2da43620",
   "metadata": {},
   "outputs": [],
   "source": []
  },
  {
   "cell_type": "code",
   "execution_count": null,
   "id": "7fc5abaf",
   "metadata": {},
   "outputs": [],
   "source": []
  }
 ],
 "metadata": {
  "kernelspec": {
   "display_name": "Python 3 (ipykernel)",
   "language": "python",
   "name": "python3"
  },
  "language_info": {
   "codemirror_mode": {
    "name": "ipython",
    "version": 3
   },
   "file_extension": ".py",
   "mimetype": "text/x-python",
   "name": "python",
   "nbconvert_exporter": "python",
   "pygments_lexer": "ipython3",
   "version": "3.10.8"
  }
 },
 "nbformat": 4,
 "nbformat_minor": 5
}
